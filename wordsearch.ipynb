{
 "cells": [
  {
   "cell_type": "code",
   "execution_count": 1,
   "metadata": {},
   "outputs": [],
   "source": [
    "import json\n",
    "\n",
    "json_file_path = \"sabdakosh.json\"\n",
    "\n",
    "with open(json_file_path, \"r\", encoding=\"utf-8\") as file:\n",
    "    data = json.load(file)\n",
    "\n",
    "word_list = [entry[\"word\"] for entry in data]\n",
    "\n",
    "wordlist_file = \"words.txt\"\n",
    "with open(wordlist_file, \"w\", encoding=\"utf-8\") as file:\n",
    "    for word in word_list:\n",
    "        file.write(word + \"\\n\")"
   ]
  },
  {
   "cell_type": "code",
   "execution_count": null,
   "metadata": {},
   "outputs": [
    {
     "name": "stdout",
     "output_type": "stream",
     "text": [
      "अ:\n",
      "40\n",
      "Matching Words: ['इङ्ग्ल्यान्ड', 'कठाङ्ग्य्राउनु', 'कठिङ्ग्य्राइ', 'कठिङ्ग्य्राउनु', 'कठ्याङ्ग्य्राउनु', 'गन्द्य्राङगुन्द्रुङ', 'गन्द्य्राङ्ङ', 'छन्द्य्राङ्ङ', 'छ्यान्द्र्याङ्ङ', 'छ्वाप्ल्याङछ्प्ल्याङ', 'जाक्ख्ड्या', 'ढुङ्ग्य्राइ', 'ढुङ्ग्य्राइनु', 'ढुङ्ग्य्राउनु', 'ढुङ्ग्र्याउनु', 'तङ्ग्य्राउनु', 'तन्द्र्याङतुन्द्रुङ', 'तन्द्र्याङ्ङ', 'थङ्ग्य्राउनु', 'धार्ष्ट्य्र', 'नङ्ग्य्राउनु', 'पसाङ्ग्य्राइनु', 'पसाङ्ग्य्राउनु', 'पसाङ्ग्य्राहट', 'पारतन्त्र्य', 'पुच्छ्र्यौली', 'भर्त्स्यौनी', 'भुङ्ग्य्राइ', 'भुङ्ग्य्राइनु', 'भुङ्ग्य्राउनु', 'मसाङ्ग्य्राइ', 'मसाङ्ग्य्राइनु', 'मसाङ्ग्य्राउनु', 'लठ्याङ्ग्य्राइ', 'वर्त्स्य', 'विचारस्वातन्त्र्य', 'स्वातन्त्र्य', 'स्वातन्त्र्य युद्ध', 'स्वातन्त्र्य सङ्ग्राम', 'ह्वान्द्र्याङ्ङ']\n"
     ]
    }
   ],
   "source": [
    "import re\n",
    "\n",
    "\n",
    "def extract_words_from_txt(file_path, pattern):\n",
    "    \"\"\"\n",
    "    Extracts words from a text file that match a given regex pattern.\n",
    "\n",
    "    Parameters:\n",
    "    - file_path (str): Path to the text file.\n",
    "    - pattern (str): Regex pattern to match the words.\n",
    "\n",
    "    Returns:\n",
    "    - list: A list of words that match the regex pattern.\n",
    "    \"\"\"\n",
    "    # Read the words from the text file\n",
    "    with open(file_path, \"r\", encoding=\"utf-8\") as file:\n",
    "        words = file.read().splitlines()\n",
    "        print(words[1])\n",
    "\n",
    "    # Compile the regex pattern\n",
    "    regex = re.compile(pattern)\n",
    "\n",
    "    # Filter words matching the pattern\n",
    "    matching_words = [word for word in words if regex.match(word)]\n",
    "\n",
    "    return matching_words\n",
    "\n",
    "\n",
    "# Example usage\n",
    "file_path = \"words.txt\"  # Replace with your text file path\n",
    "\n",
    "\n",
    "pattern = r\".*्.्.्.*\"  # Example: Matches the words that contains 3 consecutive half characters\n",
    "# [क-ह]् : Matches consonants from \"क\" to \"ह\" with a virama.\n",
    "\n",
    "\n",
    "matching_words = extract_words_from_txt(file_path, pattern)\n",
    "print(len(matching_words))\n",
    "print(\"Matching Words:\", matching_words)"
   ]
  },
  {
   "cell_type": "code",
   "execution_count": null,
   "metadata": {},
   "outputs": [],
   "source": []
  }
 ],
 "metadata": {
  "kernelspec": {
   "display_name": "Python 3",
   "language": "python",
   "name": "python3"
  },
  "language_info": {
   "codemirror_mode": {
    "name": "ipython",
    "version": 3
   },
   "file_extension": ".py",
   "mimetype": "text/x-python",
   "name": "python",
   "nbconvert_exporter": "python",
   "pygments_lexer": "ipython3",
   "version": "3.10.5"
  }
 },
 "nbformat": 4,
 "nbformat_minor": 2
}
